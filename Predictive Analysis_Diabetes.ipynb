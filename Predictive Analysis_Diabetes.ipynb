{
 "cells": [
  {
   "cell_type": "markdown",
   "id": "2fc5b367",
   "metadata": {},
   "source": [
    "# Importing Libraries"
   ]
  },
  {
   "cell_type": "code",
   "execution_count": 1,
   "id": "d3b80977",
   "metadata": {},
   "outputs": [],
   "source": [
    "import numpy as np\n",
    "import pandas as pd\n",
    "import matplotlib.pyplot as plt\n",
    "%matplotlib inline\n",
    "import seaborn as sns\n",
    "sns.set(style=\"white\", color_codes=True)\n",
    "\n",
    "from sklearn.model_selection import train_test_split\n",
    "from sklearn import preprocessing\n",
    "\n",
    "from sklearn import tree\n",
    "from sklearn.tree import DecisionTreeClassifier\n",
    "\n",
    "from sklearn.linear_model import LogisticRegression\n",
    "\n",
    "from sklearn.ensemble import RandomForestClassifier\n",
    "\n",
    "from sklearn.neighbors import KNeighborsClassifier\n",
    "\n",
    "from sklearn.naive_bayes import GaussianNB\n",
    "\n",
    "from sklearn.ensemble import RandomForestRegressor\n",
    "\n",
    "from sklearn.ensemble import AdaBoostClassifier\n",
    "\n",
    "from sklearn.ensemble import BaggingClassifier\n",
    "\n",
    "from sklearn.ensemble import ExtraTreesClassifier\n",
    "\n",
    "from sklearn.ensemble import GradientBoostingClassifier\n",
    "\n",
    "from sklearn.feature_selection import mutual_info_classif\n",
    "\n",
    "from mlxtend.feature_selection import SequentialFeatureSelector as sfs\n",
    "\n",
    "from sklearn.metrics import accuracy_score"
   ]
  },
  {
   "cell_type": "code",
   "execution_count": 2,
   "id": "9baf2df5",
   "metadata": {},
   "outputs": [
    {
     "data": {
      "text/html": [
       "<div>\n",
       "<style scoped>\n",
       "    .dataframe tbody tr th:only-of-type {\n",
       "        vertical-align: middle;\n",
       "    }\n",
       "\n",
       "    .dataframe tbody tr th {\n",
       "        vertical-align: top;\n",
       "    }\n",
       "\n",
       "    .dataframe thead th {\n",
       "        text-align: right;\n",
       "    }\n",
       "</style>\n",
       "<table border=\"1\" class=\"dataframe\">\n",
       "  <thead>\n",
       "    <tr style=\"text-align: right;\">\n",
       "      <th></th>\n",
       "      <th>Pregnancies</th>\n",
       "      <th>Glucose</th>\n",
       "      <th>BloodPressure</th>\n",
       "      <th>SkinThickness</th>\n",
       "      <th>Insulin</th>\n",
       "      <th>BMI</th>\n",
       "      <th>DiabetesPedigreeFunction</th>\n",
       "      <th>Age</th>\n",
       "      <th>Outcome</th>\n",
       "    </tr>\n",
       "  </thead>\n",
       "  <tbody>\n",
       "    <tr>\n",
       "      <th>0</th>\n",
       "      <td>6</td>\n",
       "      <td>148.0</td>\n",
       "      <td>72.0</td>\n",
       "      <td>35.0</td>\n",
       "      <td>NaN</td>\n",
       "      <td>33.6</td>\n",
       "      <td>0.627</td>\n",
       "      <td>50</td>\n",
       "      <td>1</td>\n",
       "    </tr>\n",
       "    <tr>\n",
       "      <th>1</th>\n",
       "      <td>1</td>\n",
       "      <td>85.0</td>\n",
       "      <td>66.0</td>\n",
       "      <td>29.0</td>\n",
       "      <td>NaN</td>\n",
       "      <td>26.6</td>\n",
       "      <td>0.351</td>\n",
       "      <td>31</td>\n",
       "      <td>0</td>\n",
       "    </tr>\n",
       "    <tr>\n",
       "      <th>2</th>\n",
       "      <td>8</td>\n",
       "      <td>183.0</td>\n",
       "      <td>64.0</td>\n",
       "      <td>NaN</td>\n",
       "      <td>NaN</td>\n",
       "      <td>23.3</td>\n",
       "      <td>0.672</td>\n",
       "      <td>32</td>\n",
       "      <td>1</td>\n",
       "    </tr>\n",
       "    <tr>\n",
       "      <th>3</th>\n",
       "      <td>1</td>\n",
       "      <td>89.0</td>\n",
       "      <td>66.0</td>\n",
       "      <td>23.0</td>\n",
       "      <td>94.0</td>\n",
       "      <td>28.1</td>\n",
       "      <td>0.167</td>\n",
       "      <td>21</td>\n",
       "      <td>0</td>\n",
       "    </tr>\n",
       "    <tr>\n",
       "      <th>4</th>\n",
       "      <td>0</td>\n",
       "      <td>137.0</td>\n",
       "      <td>40.0</td>\n",
       "      <td>35.0</td>\n",
       "      <td>168.0</td>\n",
       "      <td>43.1</td>\n",
       "      <td>2.288</td>\n",
       "      <td>33</td>\n",
       "      <td>1</td>\n",
       "    </tr>\n",
       "    <tr>\n",
       "      <th>...</th>\n",
       "      <td>...</td>\n",
       "      <td>...</td>\n",
       "      <td>...</td>\n",
       "      <td>...</td>\n",
       "      <td>...</td>\n",
       "      <td>...</td>\n",
       "      <td>...</td>\n",
       "      <td>...</td>\n",
       "      <td>...</td>\n",
       "    </tr>\n",
       "    <tr>\n",
       "      <th>763</th>\n",
       "      <td>10</td>\n",
       "      <td>101.0</td>\n",
       "      <td>76.0</td>\n",
       "      <td>48.0</td>\n",
       "      <td>180.0</td>\n",
       "      <td>32.9</td>\n",
       "      <td>0.171</td>\n",
       "      <td>63</td>\n",
       "      <td>0</td>\n",
       "    </tr>\n",
       "    <tr>\n",
       "      <th>764</th>\n",
       "      <td>2</td>\n",
       "      <td>122.0</td>\n",
       "      <td>70.0</td>\n",
       "      <td>27.0</td>\n",
       "      <td>NaN</td>\n",
       "      <td>36.8</td>\n",
       "      <td>0.340</td>\n",
       "      <td>27</td>\n",
       "      <td>0</td>\n",
       "    </tr>\n",
       "    <tr>\n",
       "      <th>765</th>\n",
       "      <td>5</td>\n",
       "      <td>121.0</td>\n",
       "      <td>72.0</td>\n",
       "      <td>23.0</td>\n",
       "      <td>112.0</td>\n",
       "      <td>26.2</td>\n",
       "      <td>0.245</td>\n",
       "      <td>30</td>\n",
       "      <td>0</td>\n",
       "    </tr>\n",
       "    <tr>\n",
       "      <th>766</th>\n",
       "      <td>1</td>\n",
       "      <td>126.0</td>\n",
       "      <td>60.0</td>\n",
       "      <td>NaN</td>\n",
       "      <td>NaN</td>\n",
       "      <td>30.1</td>\n",
       "      <td>0.349</td>\n",
       "      <td>47</td>\n",
       "      <td>1</td>\n",
       "    </tr>\n",
       "    <tr>\n",
       "      <th>767</th>\n",
       "      <td>1</td>\n",
       "      <td>93.0</td>\n",
       "      <td>70.0</td>\n",
       "      <td>31.0</td>\n",
       "      <td>NaN</td>\n",
       "      <td>30.4</td>\n",
       "      <td>0.315</td>\n",
       "      <td>23</td>\n",
       "      <td>0</td>\n",
       "    </tr>\n",
       "  </tbody>\n",
       "</table>\n",
       "<p>768 rows × 9 columns</p>\n",
       "</div>"
      ],
      "text/plain": [
       "     Pregnancies  Glucose  BloodPressure  SkinThickness  Insulin   BMI  \\\n",
       "0              6    148.0           72.0           35.0      NaN  33.6   \n",
       "1              1     85.0           66.0           29.0      NaN  26.6   \n",
       "2              8    183.0           64.0            NaN      NaN  23.3   \n",
       "3              1     89.0           66.0           23.0     94.0  28.1   \n",
       "4              0    137.0           40.0           35.0    168.0  43.1   \n",
       "..           ...      ...            ...            ...      ...   ...   \n",
       "763           10    101.0           76.0           48.0    180.0  32.9   \n",
       "764            2    122.0           70.0           27.0      NaN  36.8   \n",
       "765            5    121.0           72.0           23.0    112.0  26.2   \n",
       "766            1    126.0           60.0            NaN      NaN  30.1   \n",
       "767            1     93.0           70.0           31.0      NaN  30.4   \n",
       "\n",
       "     DiabetesPedigreeFunction  Age  Outcome  \n",
       "0                       0.627   50        1  \n",
       "1                       0.351   31        0  \n",
       "2                       0.672   32        1  \n",
       "3                       0.167   21        0  \n",
       "4                       2.288   33        1  \n",
       "..                        ...  ...      ...  \n",
       "763                     0.171   63        0  \n",
       "764                     0.340   27        0  \n",
       "765                     0.245   30        0  \n",
       "766                     0.349   47        1  \n",
       "767                     0.315   23        0  \n",
       "\n",
       "[768 rows x 9 columns]"
      ]
     },
     "execution_count": 2,
     "metadata": {},
     "output_type": "execute_result"
    }
   ],
   "source": [
    "data=pd.read_csv(\"C:/Data/diabetes.csv\")\n",
    "data"
   ]
  },
  {
   "cell_type": "code",
   "execution_count": 3,
   "id": "215a8b4e",
   "metadata": {},
   "outputs": [
    {
     "name": "stdout",
     "output_type": "stream",
     "text": [
      "<class 'pandas.core.frame.DataFrame'>\n",
      "RangeIndex: 768 entries, 0 to 767\n",
      "Data columns (total 9 columns):\n",
      " #   Column                    Non-Null Count  Dtype  \n",
      "---  ------                    --------------  -----  \n",
      " 0   Pregnancies               768 non-null    int64  \n",
      " 1   Glucose                   763 non-null    float64\n",
      " 2   BloodPressure             733 non-null    float64\n",
      " 3   SkinThickness             541 non-null    float64\n",
      " 4   Insulin                   394 non-null    float64\n",
      " 5   BMI                       757 non-null    float64\n",
      " 6   DiabetesPedigreeFunction  768 non-null    float64\n",
      " 7   Age                       768 non-null    int64  \n",
      " 8   Outcome                   768 non-null    int64  \n",
      "dtypes: float64(6), int64(3)\n",
      "memory usage: 54.1 KB\n"
     ]
    }
   ],
   "source": [
    "data.info()"
   ]
  },
  {
   "cell_type": "markdown",
   "id": "0aeec176",
   "metadata": {},
   "source": [
    "# Data Preprocessing\n",
    "\n",
    "## 1. Dealing with Missing Values"
   ]
  },
  {
   "cell_type": "code",
   "execution_count": 4,
   "id": "b6a73998",
   "metadata": {},
   "outputs": [
    {
     "data": {
      "text/plain": [
       "Pregnancies                   0\n",
       "Glucose                       5\n",
       "BloodPressure                35\n",
       "SkinThickness               227\n",
       "Insulin                     374\n",
       "BMI                          11\n",
       "DiabetesPedigreeFunction      0\n",
       "Age                           0\n",
       "Outcome                       0\n",
       "dtype: int64"
      ]
     },
     "execution_count": 4,
     "metadata": {},
     "output_type": "execute_result"
    }
   ],
   "source": [
    "data.isnull().sum()"
   ]
  },
  {
   "cell_type": "code",
   "execution_count": 5,
   "id": "a57c5230",
   "metadata": {},
   "outputs": [
    {
     "data": {
      "text/html": [
       "<div>\n",
       "<style scoped>\n",
       "    .dataframe tbody tr th:only-of-type {\n",
       "        vertical-align: middle;\n",
       "    }\n",
       "\n",
       "    .dataframe tbody tr th {\n",
       "        vertical-align: top;\n",
       "    }\n",
       "\n",
       "    .dataframe thead th {\n",
       "        text-align: right;\n",
       "    }\n",
       "</style>\n",
       "<table border=\"1\" class=\"dataframe\">\n",
       "  <thead>\n",
       "    <tr style=\"text-align: right;\">\n",
       "      <th></th>\n",
       "      <th>Pregnancies</th>\n",
       "      <th>Glucose</th>\n",
       "      <th>BloodPressure</th>\n",
       "      <th>SkinThickness</th>\n",
       "      <th>Insulin</th>\n",
       "      <th>BMI</th>\n",
       "      <th>DiabetesPedigreeFunction</th>\n",
       "      <th>Age</th>\n",
       "      <th>Outcome</th>\n",
       "    </tr>\n",
       "  </thead>\n",
       "  <tbody>\n",
       "    <tr>\n",
       "      <th>count</th>\n",
       "      <td>768.000000</td>\n",
       "      <td>763.000000</td>\n",
       "      <td>733.000000</td>\n",
       "      <td>541.000000</td>\n",
       "      <td>394.000000</td>\n",
       "      <td>757.000000</td>\n",
       "      <td>768.000000</td>\n",
       "      <td>768.000000</td>\n",
       "      <td>768.000000</td>\n",
       "    </tr>\n",
       "    <tr>\n",
       "      <th>mean</th>\n",
       "      <td>3.845052</td>\n",
       "      <td>121.686763</td>\n",
       "      <td>72.405184</td>\n",
       "      <td>29.153420</td>\n",
       "      <td>155.548223</td>\n",
       "      <td>32.457464</td>\n",
       "      <td>0.471876</td>\n",
       "      <td>33.240885</td>\n",
       "      <td>0.348958</td>\n",
       "    </tr>\n",
       "    <tr>\n",
       "      <th>std</th>\n",
       "      <td>3.369578</td>\n",
       "      <td>30.535641</td>\n",
       "      <td>12.382158</td>\n",
       "      <td>10.476982</td>\n",
       "      <td>118.775855</td>\n",
       "      <td>6.924988</td>\n",
       "      <td>0.331329</td>\n",
       "      <td>11.760232</td>\n",
       "      <td>0.476951</td>\n",
       "    </tr>\n",
       "    <tr>\n",
       "      <th>min</th>\n",
       "      <td>0.000000</td>\n",
       "      <td>44.000000</td>\n",
       "      <td>24.000000</td>\n",
       "      <td>7.000000</td>\n",
       "      <td>14.000000</td>\n",
       "      <td>18.200000</td>\n",
       "      <td>0.078000</td>\n",
       "      <td>21.000000</td>\n",
       "      <td>0.000000</td>\n",
       "    </tr>\n",
       "    <tr>\n",
       "      <th>25%</th>\n",
       "      <td>1.000000</td>\n",
       "      <td>99.000000</td>\n",
       "      <td>64.000000</td>\n",
       "      <td>22.000000</td>\n",
       "      <td>76.250000</td>\n",
       "      <td>27.500000</td>\n",
       "      <td>0.243750</td>\n",
       "      <td>24.000000</td>\n",
       "      <td>0.000000</td>\n",
       "    </tr>\n",
       "    <tr>\n",
       "      <th>50%</th>\n",
       "      <td>3.000000</td>\n",
       "      <td>117.000000</td>\n",
       "      <td>72.000000</td>\n",
       "      <td>29.000000</td>\n",
       "      <td>125.000000</td>\n",
       "      <td>32.300000</td>\n",
       "      <td>0.372500</td>\n",
       "      <td>29.000000</td>\n",
       "      <td>0.000000</td>\n",
       "    </tr>\n",
       "    <tr>\n",
       "      <th>75%</th>\n",
       "      <td>6.000000</td>\n",
       "      <td>141.000000</td>\n",
       "      <td>80.000000</td>\n",
       "      <td>36.000000</td>\n",
       "      <td>190.000000</td>\n",
       "      <td>36.600000</td>\n",
       "      <td>0.626250</td>\n",
       "      <td>41.000000</td>\n",
       "      <td>1.000000</td>\n",
       "    </tr>\n",
       "    <tr>\n",
       "      <th>max</th>\n",
       "      <td>17.000000</td>\n",
       "      <td>199.000000</td>\n",
       "      <td>122.000000</td>\n",
       "      <td>99.000000</td>\n",
       "      <td>846.000000</td>\n",
       "      <td>67.100000</td>\n",
       "      <td>2.420000</td>\n",
       "      <td>81.000000</td>\n",
       "      <td>1.000000</td>\n",
       "    </tr>\n",
       "  </tbody>\n",
       "</table>\n",
       "</div>"
      ],
      "text/plain": [
       "       Pregnancies     Glucose  BloodPressure  SkinThickness     Insulin  \\\n",
       "count   768.000000  763.000000     733.000000     541.000000  394.000000   \n",
       "mean      3.845052  121.686763      72.405184      29.153420  155.548223   \n",
       "std       3.369578   30.535641      12.382158      10.476982  118.775855   \n",
       "min       0.000000   44.000000      24.000000       7.000000   14.000000   \n",
       "25%       1.000000   99.000000      64.000000      22.000000   76.250000   \n",
       "50%       3.000000  117.000000      72.000000      29.000000  125.000000   \n",
       "75%       6.000000  141.000000      80.000000      36.000000  190.000000   \n",
       "max      17.000000  199.000000     122.000000      99.000000  846.000000   \n",
       "\n",
       "              BMI  DiabetesPedigreeFunction         Age     Outcome  \n",
       "count  757.000000                768.000000  768.000000  768.000000  \n",
       "mean    32.457464                  0.471876   33.240885    0.348958  \n",
       "std      6.924988                  0.331329   11.760232    0.476951  \n",
       "min     18.200000                  0.078000   21.000000    0.000000  \n",
       "25%     27.500000                  0.243750   24.000000    0.000000  \n",
       "50%     32.300000                  0.372500   29.000000    0.000000  \n",
       "75%     36.600000                  0.626250   41.000000    1.000000  \n",
       "max     67.100000                  2.420000   81.000000    1.000000  "
      ]
     },
     "execution_count": 5,
     "metadata": {},
     "output_type": "execute_result"
    }
   ],
   "source": [
    "data.describe()"
   ]
  },
  {
   "cell_type": "markdown",
   "id": "ca840aed",
   "metadata": {},
   "source": [
    "### We will replace missing values with Mean"
   ]
  },
  {
   "cell_type": "code",
   "execution_count": 6,
   "id": "24d1bb8e",
   "metadata": {},
   "outputs": [
    {
     "name": "stdout",
     "output_type": "stream",
     "text": [
      "Glucose - 121.6867627785059\n",
      "BloodPressure - 72.40518417462484\n",
      "SkinThickness - 29.153419593345657\n",
      "Insulin - 155.5482233502538\n",
      "BMI - 32.45746367239099\n"
     ]
    }
   ],
   "source": [
    "data1=pd.DataFrame(data.Glucose.describe())\n",
    "mean1=data1['Glucose'][1]\n",
    "print('Glucose -', mean1)\n",
    "\n",
    "data2=pd.DataFrame(data.BloodPressure.describe())\n",
    "mean2=data2['BloodPressure'][1]\n",
    "print('BloodPressure -', mean2)\n",
    "\n",
    "data3=pd.DataFrame(data.SkinThickness.describe())\n",
    "mean3=data3['SkinThickness'][1]\n",
    "print('SkinThickness -', mean3)\n",
    "\n",
    "data4=pd.DataFrame(data.Insulin.describe())\n",
    "mean4=data4['Insulin'][1]\n",
    "print('Insulin -', mean4)\n",
    "\n",
    "data5=pd.DataFrame(data.BMI.describe())\n",
    "mean5=data5['BMI'][1]\n",
    "print('BMI -', mean5)"
   ]
  },
  {
   "cell_type": "code",
   "execution_count": 7,
   "id": "00bbd7e8",
   "metadata": {},
   "outputs": [],
   "source": [
    "data['Glucose'].fillna(mean1,inplace=True)\n",
    "data['BloodPressure'].fillna(mean2,inplace=True)\n",
    "data['SkinThickness'].fillna(mean3,inplace=True)\n",
    "data['Insulin'].fillna(mean4,inplace=True)\n",
    "data['BMI'].fillna(mean5,inplace=True)"
   ]
  },
  {
   "cell_type": "code",
   "execution_count": 8,
   "id": "8f0592bb",
   "metadata": {},
   "outputs": [
    {
     "name": "stdout",
     "output_type": "stream",
     "text": [
      "<class 'pandas.core.frame.DataFrame'>\n",
      "RangeIndex: 768 entries, 0 to 767\n",
      "Data columns (total 9 columns):\n",
      " #   Column                    Non-Null Count  Dtype  \n",
      "---  ------                    --------------  -----  \n",
      " 0   Pregnancies               768 non-null    int64  \n",
      " 1   Glucose                   768 non-null    float64\n",
      " 2   BloodPressure             768 non-null    float64\n",
      " 3   SkinThickness             768 non-null    float64\n",
      " 4   Insulin                   768 non-null    float64\n",
      " 5   BMI                       768 non-null    float64\n",
      " 6   DiabetesPedigreeFunction  768 non-null    float64\n",
      " 7   Age                       768 non-null    int64  \n",
      " 8   Outcome                   768 non-null    int64  \n",
      "dtypes: float64(6), int64(3)\n",
      "memory usage: 54.1 KB\n"
     ]
    }
   ],
   "source": [
    "data.info()"
   ]
  },
  {
   "cell_type": "markdown",
   "id": "e29d5dd6",
   "metadata": {},
   "source": [
    "## 2. Dealing with Imbalanced Dataset"
   ]
  },
  {
   "cell_type": "code",
   "execution_count": 9,
   "id": "6846ea6b",
   "metadata": {},
   "outputs": [],
   "source": [
    "d_count=data['Outcome'].value_counts()"
   ]
  },
  {
   "cell_type": "code",
   "execution_count": 10,
   "id": "208dc39e",
   "metadata": {},
   "outputs": [
    {
     "data": {
      "text/plain": [
       "<AxesSubplot:>"
      ]
     },
     "execution_count": 10,
     "metadata": {},
     "output_type": "execute_result"
    },
    {
     "data": {
      "image/png": "[encoded data removed]",
      "text/plain": [
       "<Figure size 432x288 with 1 Axes>"
      ]
     },
     "metadata": {},
     "output_type": "display_data"
    }
   ],
   "source": [
    "d_count.plot(kind=\"bar\")"
   ]
  },
  {
   "cell_type": "code",
   "execution_count": 11,
   "id": "df5d06de",
   "metadata": {},
   "outputs": [
    {
     "data": {
      "text/plain": [
       "268"
      ]
     },
     "execution_count": 11,
     "metadata": {},
     "output_type": "execute_result"
    }
   ],
   "source": [
    "min_count = data['Outcome'].value_counts().values.min()\n",
    "min_count"
   ]
  },
  {
   "cell_type": "markdown",
   "id": "fca4fd89",
   "metadata": {},
   "source": [
    "### Applying Undersampling "
   ]
  },
  {
   "cell_type": "code",
   "execution_count": 12,
   "id": "d42aa53c",
   "metadata": {},
   "outputs": [
    {
     "data": {
      "text/plain": [
       "0    268\n",
       "1    268\n",
       "Name: Outcome, dtype: int64"
      ]
     },
     "execution_count": 12,
     "metadata": {},
     "output_type": "execute_result"
    }
   ],
   "source": [
    "data_no = data[data['Outcome']==0].sample(int(min_count))\n",
    "data_yes = data[data['Outcome']==1]\n",
    "data1 = data_yes.append(data_no).sample(len(data_yes)+len(data_no))\n",
    "d2_count=data1['Outcome'].value_counts()\n",
    "d2_count"
   ]
  },
  {
   "cell_type": "code",
   "execution_count": 13,
   "id": "3a529cb2",
   "metadata": {},
   "outputs": [
    {
     "data": {
      "text/plain": [
       "<AxesSubplot:>"
      ]
     },
     "execution_count": 13,
     "metadata": {},
     "output_type": "execute_result"
    },
    {
     "data": {
      "image/png": "[encoded data removed]",
      "text/plain": [
       "<Figure size 432x288 with 1 Axes>"
      ]
     },
     "metadata": {},
     "output_type": "display_data"
    }
   ],
   "source": [
    "d2_count.plot(kind=\"bar\")"
   ]
  },
  {
   "cell_type": "markdown",
   "id": "75a544b0",
   "metadata": {},
   "source": [
    "## 3. Dealing with Outliers "
   ]
  },
  {
   "cell_type": "code",
   "execution_count": 14,
   "id": "29ecbe7f",
   "metadata": {},
   "outputs": [],
   "source": [
    "data2=data1"
   ]
  },
  {
   "cell_type": "code",
   "execution_count": 15,
   "id": "5824070a",
   "metadata": {},
   "outputs": [
    {
     "data": {
      "text/plain": [
       "<AxesSubplot:>"
      ]
     },
     "execution_count": 15,
     "metadata": {},
     "output_type": "execute_result"
    },
    {
     "data": {
      "image/png": "[encoded data removed]",
      "text/plain": [
       "<Figure size 648x648 with 1 Axes>"
      ]
     },
     "metadata": {},
     "output_type": "display_data"
    }
   ],
   "source": [
    "plt.figure(figsize=(9,9))\n",
    "plt.xticks(rotation=90)\n",
    "sns.boxplot(data=data2)"
   ]
  },
  {
   "cell_type": "code",
   "execution_count": 16,
   "id": "71a86b2e",
   "metadata": {},
   "outputs": [
    {
     "data": {
      "text/plain": [
       "257"
      ]
     },
     "execution_count": 16,
     "metadata": {},
     "output_type": "execute_result"
    }
   ],
   "source": [
    "for outlier in ['Insulin','SkinThickness']:\n",
    "    Q1 = np.percentile(data2[outlier],25)\n",
    "    Q3 = np.percentile(data2[outlier],75)\n",
    "    IQR = Q3-Q1\n",
    "    UQR = Q3+1.5*IQR\n",
    "    LQR = Q1 - 1.5*IQR\n",
    "    data2 = data2.loc[(data2[outlier]>=LQR) & (data2[outlier]<=UQR)]\n",
    "len(data2)"
   ]
  },
  {
   "cell_type": "markdown",
   "id": "4a4b5210",
   "metadata": {},
   "source": [
    "# Applying Models to check the accuracy\n",
    "## Splitting Data into Training and Test Dataset"
   ]
  },
  {
   "cell_type": "code",
   "execution_count": 17,
   "id": "0ef92ee4",
   "metadata": {},
   "outputs": [],
   "source": [
    "X = data2.iloc[:,:-1]\n",
    "Y = data2.Outcome\n",
    "\n",
    "X_train, X_test, Y_train, Y_test = train_test_split(X, Y, test_size = 0.3, random_state = 25, stratify = Y)"
   ]
  },
  {
   "cell_type": "markdown",
   "id": "74c1150b",
   "metadata": {},
   "source": [
    "### 1. Gaussian Naive Bayes"
   ]
  },
  {
   "cell_type": "code",
   "execution_count": 18,
   "id": "1c2f61e1",
   "metadata": {},
   "outputs": [
    {
     "name": "stdout",
     "output_type": "stream",
     "text": [
      "Train -> 72.067%\n",
      "Test -> 76.923%\n"
     ]
    }
   ],
   "source": [
    "classifier = GaussianNB()\n",
    "classifier.fit(X_train, Y_train)\n",
    "pred1 = classifier.predict(X_test)\n",
    "pred2 = classifier.predict(X_train)\n",
    "percent1 = round(accuracy_score(Y_train, pred2) * 100, 3)\n",
    "percent2 = round(accuracy_score(Y_test, pred1) * 100, 3)\n",
    "print(\"Train -> {:.3f}%\".format(percent1))\n",
    "print(\"Test -> {:.3f}%\".format(percent2))"
   ]
  },
  {
   "cell_type": "markdown",
   "id": "b2590428",
   "metadata": {},
   "source": [
    "### 2. Decision Tree"
   ]
  },
  {
   "cell_type": "code",
   "execution_count": 19,
   "id": "a05a90ec",
   "metadata": {},
   "outputs": [
    {
     "name": "stdout",
     "output_type": "stream",
     "text": [
      "Train -> 100.000%\n",
      "Test -> 66.667%\n"
     ]
    }
   ],
   "source": [
    "classifier = DecisionTreeClassifier()\n",
    "classifier.fit(X_train, Y_train)\n",
    "pred1 = classifier.predict(X_test)\n",
    "pred2 = classifier.predict(X_train)\n",
    "percent1 = round(accuracy_score(Y_train, pred2) * 100, 3)\n",
    "percent2 = round(accuracy_score(Y_test, pred1) * 100, 3)\n",
    "print(\"Train -> {:.3f}%\".format(percent1))\n",
    "print(\"Test -> {:.3f}%\".format(percent2))"
   ]
  },
  {
   "cell_type": "markdown",
   "id": "fde6234e",
   "metadata": {},
   "source": [
    "### 3. Logistic Regression"
   ]
  },
  {
   "cell_type": "code",
   "execution_count": 21,
   "id": "efc699d0",
   "metadata": {},
   "outputs": [
    {
     "name": "stdout",
     "output_type": "stream",
     "text": [
      "Train -> 70.391%\n",
      "Test -> 79.487%\n"
     ]
    },
    {
     "name": "stderr",
     "output_type": "stream",
     "text": [
      "C:\\Users\\manvi\\Anaconda3\\lib\\site-packages\\sklearn\\linear_model\\_logistic.py:814: ConvergenceWarning: lbfgs failed to converge (status=1):\n",
      "STOP: TOTAL NO. of ITERATIONS REACHED LIMIT.\n",
      "\n",
      "Increase the number of iterations (max_iter) or scale the data as shown in:\n",
      "    https://scikit-learn.org/stable/modules/preprocessing.html\n",
      "Please also refer to the documentation for alternative solver options:\n",
      "    https://scikit-learn.org/stable/modules/linear_model.html#logistic-regression\n",
      "  n_iter_i = _check_optimize_result(\n"
     ]
    }
   ],
   "source": [
    "classifier = LogisticRegression()\n",
    "classifier.fit(X_train, Y_train)\n",
    "pred1 = classifier.predict(X_test)\n",
    "pred2 = classifier.predict(X_train)\n",
    "percent1 = round(accuracy_score(Y_train, pred2) * 100, 3)\n",
    "percent2 = round(accuracy_score(Y_test, pred1) * 100, 3)\n",
    "print(\"Train -> {:.3f}%\".format(percent1))\n",
    "print(\"Test -> {:.3f}%\".format(percent2))"
   ]
  },
  {
   "cell_type": "markdown",
   "id": "3db37c44",
   "metadata": {},
   "source": [
    "### 4. KNN"
   ]
  },
  {
   "cell_type": "code",
   "execution_count": 22,
   "id": "7ef1049c",
   "metadata": {},
   "outputs": [
    {
     "name": "stdout",
     "output_type": "stream",
     "text": [
      "Train -> 81.564%\n",
      "Test -> 69.231%\n"
     ]
    },
    {
     "name": "stderr",
     "output_type": "stream",
     "text": [
      "C:\\Users\\manvi\\Anaconda3\\lib\\site-packages\\sklearn\\base.py:441: UserWarning: X does not have valid feature names, but KNeighborsClassifier was fitted with feature names\n",
      "  warnings.warn(\n",
      "C:\\Users\\manvi\\Anaconda3\\lib\\site-packages\\sklearn\\base.py:441: UserWarning: X does not have valid feature names, but KNeighborsClassifier was fitted with feature names\n",
      "  warnings.warn(\n"
     ]
    }
   ],
   "source": [
    "classifier = KNeighborsClassifier(n_neighbors = 4, metric = 'minkowski', p = 2)\n",
    "classifier.fit(X_train, Y_train)\n",
    "pred1 = classifier.predict(X_test)\n",
    "pred2 = classifier.predict(X_train)\n",
    "percent1 = round(accuracy_score(Y_train, pred2) * 100, 3)\n",
    "percent2 = round(accuracy_score(Y_test, pred1) * 100, 3)\n",
    "print(\"Train -> {:.3f}%\".format(percent1))\n",
    "print(\"Test -> {:.3f}%\".format(percent2))"
   ]
  },
  {
   "cell_type": "markdown",
   "id": "fc7e6ae7",
   "metadata": {},
   "source": [
    "## Improving Accuracy of Models"
   ]
  },
  {
   "cell_type": "markdown",
   "id": "b05681e0",
   "metadata": {},
   "source": [
    "### Feature Selection"
   ]
  },
  {
   "cell_type": "code",
   "execution_count": 23,
   "id": "3c9d2288",
   "metadata": {},
   "outputs": [
    {
     "name": "stderr",
     "output_type": "stream",
     "text": [
      "[Parallel(n_jobs=1)]: Using backend SequentialBackend with 1 concurrent workers.\n",
      "[Parallel(n_jobs=1)]: Done   1 out of   1 | elapsed:    2.8s remaining:    0.0s\n",
      "[Parallel(n_jobs=1)]: Done   8 out of   8 | elapsed:   14.1s finished\n",
      "\n",
      "[2021-12-30 14:40:41] Features: 1/5 -- score: 0.5919047619047618[Parallel(n_jobs=1)]: Using backend SequentialBackend with 1 concurrent workers.\n",
      "[Parallel(n_jobs=1)]: Done   1 out of   1 | elapsed:    1.7s remaining:    0.0s\n",
      "[Parallel(n_jobs=1)]: Done   7 out of   7 | elapsed:   12.3s finished\n",
      "\n",
      "[2021-12-30 14:40:53] Features: 2/5 -- score: 0.692857142857143[Parallel(n_jobs=1)]: Using backend SequentialBackend with 1 concurrent workers.\n",
      "[Parallel(n_jobs=1)]: Done   1 out of   1 | elapsed:    1.7s remaining:    0.0s\n",
      "[Parallel(n_jobs=1)]: Done   6 out of   6 | elapsed:   10.5s finished\n",
      "\n",
      "[2021-12-30 14:41:04] Features: 3/5 -- score: 0.7096825396825397[Parallel(n_jobs=1)]: Using backend SequentialBackend with 1 concurrent workers.\n",
      "[Parallel(n_jobs=1)]: Done   1 out of   1 | elapsed:    1.7s remaining:    0.0s\n",
      "[Parallel(n_jobs=1)]: Done   5 out of   5 | elapsed:    9.2s finished\n",
      "\n",
      "[2021-12-30 14:41:13] Features: 4/5 -- score: 0.7371428571428572[Parallel(n_jobs=1)]: Using backend SequentialBackend with 1 concurrent workers.\n",
      "[Parallel(n_jobs=1)]: Done   1 out of   1 | elapsed:    1.8s remaining:    0.0s\n",
      "[Parallel(n_jobs=1)]: Done   4 out of   4 | elapsed:    7.3s finished\n",
      "\n",
      "[2021-12-30 14:41:21] Features: 5/5 -- score: 0.6923809523809524"
     ]
    }
   ],
   "source": [
    "fs = RandomForestClassifier(n_estimators=100, n_jobs=-1)\n",
    "fs1 = sfs(fs, k_features=5, forward=True, floating=False, verbose=2, scoring='accuracy', cv=5)\n",
    "\n",
    "fs1 = fs1.fit(X_train, Y_train)"
   ]
  },
  {
   "cell_type": "markdown",
   "id": "9f67284c",
   "metadata": {},
   "source": [
    "### Columns 0,1,4,5 & 6 are highly affecting the Outcome column.\n",
    "### Dropping the irrelevant column to increase the accuracy of models"
   ]
  },
  {
   "cell_type": "code",
   "execution_count": 24,
   "id": "4414ed6d",
   "metadata": {},
   "outputs": [
    {
     "name": "stdout",
     "output_type": "stream",
     "text": [
      "[1, 3, 4, 5, 6]\n"
     ]
    }
   ],
   "source": [
    "features = list(fs1.k_feature_idx_)\n",
    "print(features)"
   ]
  },
  {
   "cell_type": "code",
   "execution_count": 25,
   "id": "430501f8",
   "metadata": {},
   "outputs": [
    {
     "data": {
      "text/html": [
       "<div>\n",
       "<style scoped>\n",
       "    .dataframe tbody tr th:only-of-type {\n",
       "        vertical-align: middle;\n",
       "    }\n",
       "\n",
       "    .dataframe tbody tr th {\n",
       "        vertical-align: top;\n",
       "    }\n",
       "\n",
       "    .dataframe thead th {\n",
       "        text-align: right;\n",
       "    }\n",
       "</style>\n",
       "<table border=\"1\" class=\"dataframe\">\n",
       "  <thead>\n",
       "    <tr style=\"text-align: right;\">\n",
       "      <th></th>\n",
       "      <th>Glucose</th>\n",
       "      <th>SkinThickness</th>\n",
       "      <th>Insulin</th>\n",
       "      <th>BMI</th>\n",
       "      <th>DiabetesPedigreeFunction</th>\n",
       "      <th>Outcome</th>\n",
       "    </tr>\n",
       "  </thead>\n",
       "  <tbody>\n",
       "    <tr>\n",
       "      <th>284</th>\n",
       "      <td>108.0</td>\n",
       "      <td>29.15342</td>\n",
       "      <td>155.548223</td>\n",
       "      <td>27.0</td>\n",
       "      <td>0.259</td>\n",
       "      <td>1</td>\n",
       "    </tr>\n",
       "    <tr>\n",
       "      <th>63</th>\n",
       "      <td>141.0</td>\n",
       "      <td>34.00000</td>\n",
       "      <td>128.000000</td>\n",
       "      <td>25.4</td>\n",
       "      <td>0.699</td>\n",
       "      <td>0</td>\n",
       "    </tr>\n",
       "    <tr>\n",
       "      <th>357</th>\n",
       "      <td>129.0</td>\n",
       "      <td>30.00000</td>\n",
       "      <td>155.548223</td>\n",
       "      <td>39.9</td>\n",
       "      <td>0.569</td>\n",
       "      <td>1</td>\n",
       "    </tr>\n",
       "    <tr>\n",
       "      <th>222</th>\n",
       "      <td>119.0</td>\n",
       "      <td>29.15342</td>\n",
       "      <td>155.548223</td>\n",
       "      <td>25.2</td>\n",
       "      <td>0.209</td>\n",
       "      <td>0</td>\n",
       "    </tr>\n",
       "    <tr>\n",
       "      <th>148</th>\n",
       "      <td>147.0</td>\n",
       "      <td>29.15342</td>\n",
       "      <td>155.548223</td>\n",
       "      <td>33.7</td>\n",
       "      <td>0.218</td>\n",
       "      <td>0</td>\n",
       "    </tr>\n",
       "    <tr>\n",
       "      <th>...</th>\n",
       "      <td>...</td>\n",
       "      <td>...</td>\n",
       "      <td>...</td>\n",
       "      <td>...</td>\n",
       "      <td>...</td>\n",
       "      <td>...</td>\n",
       "    </tr>\n",
       "    <tr>\n",
       "      <th>731</th>\n",
       "      <td>120.0</td>\n",
       "      <td>29.15342</td>\n",
       "      <td>155.548223</td>\n",
       "      <td>28.4</td>\n",
       "      <td>0.259</td>\n",
       "      <td>1</td>\n",
       "    </tr>\n",
       "    <tr>\n",
       "      <th>708</th>\n",
       "      <td>164.0</td>\n",
       "      <td>29.15342</td>\n",
       "      <td>155.548223</td>\n",
       "      <td>32.8</td>\n",
       "      <td>0.148</td>\n",
       "      <td>1</td>\n",
       "    </tr>\n",
       "    <tr>\n",
       "      <th>201</th>\n",
       "      <td>138.0</td>\n",
       "      <td>29.15342</td>\n",
       "      <td>155.548223</td>\n",
       "      <td>40.1</td>\n",
       "      <td>0.236</td>\n",
       "      <td>0</td>\n",
       "    </tr>\n",
       "    <tr>\n",
       "      <th>419</th>\n",
       "      <td>129.0</td>\n",
       "      <td>29.00000</td>\n",
       "      <td>115.000000</td>\n",
       "      <td>26.4</td>\n",
       "      <td>0.219</td>\n",
       "      <td>1</td>\n",
       "    </tr>\n",
       "    <tr>\n",
       "      <th>355</th>\n",
       "      <td>165.0</td>\n",
       "      <td>29.15342</td>\n",
       "      <td>155.548223</td>\n",
       "      <td>30.4</td>\n",
       "      <td>0.302</td>\n",
       "      <td>1</td>\n",
       "    </tr>\n",
       "  </tbody>\n",
       "</table>\n",
       "<p>257 rows × 6 columns</p>\n",
       "</div>"
      ],
      "text/plain": [
       "     Glucose  SkinThickness     Insulin   BMI  DiabetesPedigreeFunction  \\\n",
       "284    108.0       29.15342  155.548223  27.0                     0.259   \n",
       "63     141.0       34.00000  128.000000  25.4                     0.699   \n",
       "357    129.0       30.00000  155.548223  39.9                     0.569   \n",
       "222    119.0       29.15342  155.548223  25.2                     0.209   \n",
       "148    147.0       29.15342  155.548223  33.7                     0.218   \n",
       "..       ...            ...         ...   ...                       ...   \n",
       "731    120.0       29.15342  155.548223  28.4                     0.259   \n",
       "708    164.0       29.15342  155.548223  32.8                     0.148   \n",
       "201    138.0       29.15342  155.548223  40.1                     0.236   \n",
       "419    129.0       29.00000  115.000000  26.4                     0.219   \n",
       "355    165.0       29.15342  155.548223  30.4                     0.302   \n",
       "\n",
       "     Outcome  \n",
       "284        1  \n",
       "63         0  \n",
       "357        1  \n",
       "222        0  \n",
       "148        0  \n",
       "..       ...  \n",
       "731        1  \n",
       "708        1  \n",
       "201        0  \n",
       "419        1  \n",
       "355        1  \n",
       "\n",
       "[257 rows x 6 columns]"
      ]
     },
     "execution_count": 25,
     "metadata": {},
     "output_type": "execute_result"
    }
   ],
   "source": [
    "d1=data2.drop(['Pregnancies','BloodPressure','Age'],axis=1)\n",
    "d1"
   ]
  },
  {
   "cell_type": "code",
   "execution_count": 26,
   "id": "5f2e32f5",
   "metadata": {},
   "outputs": [],
   "source": [
    "X = d1.iloc[:,:-1]\n",
    "Y = d1.Outcome\n",
    "\n",
    "X_train, X_test, Y_train, Y_test = train_test_split(X, Y, test_size = 0.3, random_state = 25, stratify = Y)"
   ]
  },
  {
   "cell_type": "markdown",
   "id": "16d6fccd",
   "metadata": {},
   "source": [
    "### 1. Bagging - Decision Tree"
   ]
  },
  {
   "cell_type": "code",
   "execution_count": 27,
   "id": "8bac04a4",
   "metadata": {},
   "outputs": [
    {
     "name": "stdout",
     "output_type": "stream",
     "text": [
      "Train -> 100.000%\n",
      "Test -> 70.513%\n"
     ]
    }
   ],
   "source": [
    "cls = DecisionTreeClassifier()\n",
    "classifier = BaggingClassifier(base_estimator = cls, n_estimators = 84, random_state = 1000)\n",
    "classifier.fit(X_train, Y_train)\n",
    "pred1 = classifier.predict(X_test)\n",
    "pred2 = classifier.predict(X_train)\n",
    "percent1 = round(accuracy_score(Y_train, pred2) * 100, 3)\n",
    "percent2 = round(accuracy_score(Y_test, pred1) * 100, 3)\n",
    "print(\"Train -> {:.3f}%\".format(percent1))\n",
    "print(\"Test -> {:.3f}%\".format(percent2))"
   ]
  },
  {
   "cell_type": "markdown",
   "id": "3d9cfdbc",
   "metadata": {},
   "source": [
    "### 2. Bagging - Random Forest "
   ]
  },
  {
   "cell_type": "code",
   "execution_count": 147,
   "id": "a989986f",
   "metadata": {},
   "outputs": [
    {
     "name": "stdout",
     "output_type": "stream",
     "text": [
      "Train -> 100.000%\n",
      "Test -> 73.077%\n"
     ]
    }
   ],
   "source": [
    "classifier = RandomForestClassifier(n_estimators = 65)\n",
    "classifier.fit(X_train, Y_train)\n",
    "pred1 = classifier.predict(X_test)\n",
    "pred2 = classifier.predict(X_train)\n",
    "percent1 = round(accuracy_score(Y_train, pred2) * 100, 3)\n",
    "percent2 = round(accuracy_score(Y_test, pred1) * 100, 3)\n",
    "print(\"Train -> {:.3f}%\".format(percent1))\n",
    "print(\"Test -> {:.3f}%\".format(percent2))"
   ]
  },
  {
   "cell_type": "markdown",
   "id": "81a98fc2",
   "metadata": {},
   "source": [
    "### 3. Bagging - Extra Trees "
   ]
  },
  {
   "cell_type": "code",
   "execution_count": 62,
   "id": "d5eb1cfe",
   "metadata": {},
   "outputs": [
    {
     "name": "stdout",
     "output_type": "stream",
     "text": [
      "Train -> 100.000%\n",
      "Test -> 71.795%\n"
     ]
    }
   ],
   "source": [
    "classifier = ExtraTreesClassifier(n_estimators=1000, max_features=4, random_state=80)\n",
    "classifier.fit(X_train, Y_train)\n",
    "pred1 = classifier.predict(X_test)\n",
    "pred2 = classifier.predict(X_train)\n",
    "percent1 = round(accuracy_score(Y_train, pred2) * 100, 3)\n",
    "percent2 = round(accuracy_score(Y_test, pred1) * 100, 3)\n",
    "print(\"Train -> {:.3f}%\".format(percent1))\n",
    "print(\"Test -> {:.3f}%\".format(percent2))"
   ]
  },
  {
   "cell_type": "markdown",
   "id": "1aacfc2d",
   "metadata": {},
   "source": [
    "### 4. Boosting - Adaboost"
   ]
  },
  {
   "cell_type": "code",
   "execution_count": 63,
   "id": "fda7e84a",
   "metadata": {},
   "outputs": [
    {
     "name": "stderr",
     "output_type": "stream",
     "text": [
      "C:\\Users\\manvi\\Anaconda3\\lib\\site-packages\\sklearn\\base.py:441: UserWarning: X does not have valid feature names, but AdaBoostClassifier was fitted with feature names\n",
      "  warnings.warn(\n",
      "C:\\Users\\manvi\\Anaconda3\\lib\\site-packages\\sklearn\\base.py:441: UserWarning: X does not have valid feature names, but AdaBoostClassifier was fitted with feature names\n",
      "  warnings.warn(\n"
     ]
    },
    {
     "name": "stdout",
     "output_type": "stream",
     "text": [
      "Train -> 91.620%\n",
      "Test -> 71.795%\n"
     ]
    }
   ],
   "source": [
    "classifier = AdaBoostClassifier(n_estimators=1000, random_state=85, algorithm='SAMME')\n",
    "classifier.fit(X_train, Y_train)\n",
    "pred1 = classifier.predict(X_test)\n",
    "pred2 = classifier.predict(X_train)\n",
    "percent1 = round(accuracy_score(Y_train, pred2) * 100, 3)\n",
    "percent2 = round(accuracy_score(Y_test, pred1) * 100, 3)\n",
    "print(\"Train -> {:.3f}%\".format(percent1))\n",
    "print(\"Test -> {:.3f}%\".format(percent2))"
   ]
  },
  {
   "cell_type": "markdown",
   "id": "4047dd12",
   "metadata": {},
   "source": [
    "### 5. Boosting - Gradient Boosting "
   ]
  },
  {
   "cell_type": "code",
   "execution_count": 64,
   "id": "45741827",
   "metadata": {},
   "outputs": [
    {
     "name": "stdout",
     "output_type": "stream",
     "text": [
      "Train -> 91.620%\n",
      "Test -> 71.795%\n"
     ]
    }
   ],
   "source": [
    "classifier = GradientBoostingClassifier(n_estimators=100, learning_rate=1.0, max_depth=1)\n",
    "classifier.fit(X_train, Y_train)\n",
    "pred1 = classifier.predict(X_test)\n",
    "pred2 = classifier.predict(X_train)\n",
    "percent1 = round(accuracy_score(Y_train, pred2) * 100, 3)\n",
    "percent2 = round(accuracy_score(Y_test, pred1) * 100, 3)\n",
    "print(\"Train -> {:.3f}%\".format(percent1))\n",
    "print(\"Test -> {:.3f}%\".format(percent2))"
   ]
  },
  {
   "cell_type": "markdown",
   "id": "9621a589",
   "metadata": {},
   "source": [
    "# Model Selection and Performance"
   ]
  },
  {
   "cell_type": "markdown",
   "id": "7f8e7aa2",
   "metadata": {},
   "source": [
    "In the above Diabetes dataset, we have predicted the Outcome for patients who have Diabetes or not. For which we have applied below algorithms and acquired the accuracies.\n",
    "\n",
    "Step 1 : Imported the required Libraries\n",
    "\n",
    "Step 2 : Data Preprocessing\n",
    "         - Checking for Missing Values\n",
    "         - Replacing Missing Values with Plausible values\n",
    "         - Checking for Outliers\n",
    "         - Managing Outliers with Inter Quantile Range process\n",
    "         \n",
    "Step 3 : Splitting data in Training and Test dataset\n",
    "         - 30% dataset is for testing and 70% for training\n",
    "         \n",
    "Step 4 : Below models are applied for checking the accuracy:\n",
    "\n",
    "1. Gaussian Naive Bayes:\n",
    "   Training Accuracy : 70.950%\n",
    "   Test Accuracy : 83.333%\n",
    "   \n",
    "2. Decision Tree:\n",
    "   Training Accuracy : 100.000%\n",
    "   Test Accuracy : 66.667%\n",
    "\n",
    "3. Logistic Regression:\n",
    "   Training Accuracy : 69.274%\n",
    "   Test Accuracy : 79.487%\n",
    "   \n",
    "4. KNN:\n",
    "   Training Accuracy : 72.067%\n",
    "   Test Accuracy : 73.077%\n",
    "   \n",
    "   \n",
    "Step 5 : Increasing Model Performance using Ensemble methods\n",
    "We have applied Feature selection method to check what all features/columns highly impact 'Outcome' i.e. Target variable.\n",
    "5 features are selected and ensemble methods are applied to increase the accuracy.\n",
    "\n",
    "1. Bagging-Decision Tree:\n",
    "   Training Accuracy : 100.000%\n",
    "   Test Accuracy : 71.795%\n",
    "\n",
    "2. Extra Trees:\n",
    "   Training Accuracy : 100.000%\n",
    "   Test Accuracy : 73.077%\n",
    "\n",
    "2. Random Forest:\n",
    "   Training Accuracy : 100.000%\n",
    "   Test Accuracy : 79.487%\n",
    "   \n",
    "3. Boosting-Adaboost:\n",
    "   Training Accuracy : 92.737%\n",
    "   Test Accuracy : 66.667%\n",
    "\n",
    "4. Gradient Boosting:\n",
    "   Training Accuracy : 90.503%\n",
    "   Test Accuracy : 69.231%\n",
    "   \n",
    "As per above models, we can go ahead with Bagging Random Forest with highest accuracy of 79.487% to predict if a patient will have Diabetes or not.\n",
    "   \n"
   ]
  },
  {
   "cell_type": "code",
   "execution_count": null,
   "id": "c56f344d",
   "metadata": {},
   "outputs": [],
   "source": []
  }
 ],
 "metadata": {
  "kernelspec": {
   "display_name": "Python 3",
   "language": "python",
   "name": "python3"
  },
  "language_info": {
   "codemirror_mode": {
    "name": "ipython",
    "version": 3
   },
   "file_extension": ".py",
   "mimetype": "text/x-python",
   "name": "python",
   "nbconvert_exporter": "python",
   "pygments_lexer": "ipython3",
   "version": "3.8.8"
  }
 },
 "nbformat": 4,
 "nbformat_minor": 5
}
